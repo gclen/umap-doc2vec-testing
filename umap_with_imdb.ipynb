{
 "cells": [
  {
   "cell_type": "markdown",
   "metadata": {},
   "source": [
    "## Load a  previously trained doc2vec model\n",
    "\n",
    "The model was trained using gensim with the following parameters"
   ]
  },
  {
   "cell_type": "code",
   "execution_count": 1,
   "metadata": {
    "collapsed": true
   },
   "outputs": [],
   "source": [
    "import umap\n",
    "\n",
    "import numpy as np\n",
    "import pandas as pd\n",
    "import matplotlib.pyplot as plt\n",
    "import seaborn as sns\n",
    "\n",
    "from gensim.models import Doc2Vec\n",
    "\n",
    "%matplotlib inline"
   ]
  },
  {
   "cell_type": "code",
   "execution_count": 2,
   "metadata": {
    "collapsed": true
   },
   "outputs": [],
   "source": [
    "# You will first need to unzip the file\n",
    "model = Doc2Vec.load('imdb.d2v')"
   ]
  },
  {
   "cell_type": "markdown",
   "metadata": {},
   "source": [
    "## As a test case we are only going to take the training set of positive and negative documents"
   ]
  },
  {
   "cell_type": "code",
   "execution_count": 3,
   "metadata": {
    "collapsed": true
   },
   "outputs": [],
   "source": [
    "positive_examples = []\n",
    "negative_examples = []\n",
    "for i, x in enumerate(model.docvecs.doctags):\n",
    "    if x.startswith('TRAIN_POS'):\n",
    "        positive_examples.append(model.docvecs[i])\n",
    "    if x.startswith('TRAIN_NEG'):\n",
    "        negative_examples.append(model.docvecs[i])"
   ]
  },
  {
   "cell_type": "code",
   "execution_count": 4,
   "metadata": {
    "collapsed": true
   },
   "outputs": [],
   "source": [
    "pos = pd.DataFrame(positive_examples)\n",
    "pos.insert(loc=0, column='sentiment', value=1)\n",
    "\n",
    "neg = pd.DataFrame(negative_examples)\n",
    "neg.insert(loc=0, column='sentiment', value=0)\n",
    "reviews = pd.concat([pos, neg], ignore_index=True)"
   ]
  },
  {
   "cell_type": "markdown",
   "metadata": {},
   "source": [
    "### Let's try to embed the documents which are embedded into a 100 dimensional space into a two dimensional space"
   ]
  },
  {
   "cell_type": "code",
   "execution_count": 38,
   "metadata": {},
   "outputs": [
    {
     "name": "stdout",
     "output_type": "stream",
     "text": [
      "CPU times: user 6min 13s, sys: 988 ms, total: 6min 14s\n",
      "Wall time: 4min 44s\n"
     ]
    }
   ],
   "source": [
    "%%time\n",
    "review_array = np.array(reviews.iloc[:, 1:])\n",
    "review_embedding = umap.UMAP().fit_transform(review_array)"
   ]
  },
  {
   "cell_type": "code",
   "execution_count": 39,
   "metadata": {
    "collapsed": true
   },
   "outputs": [],
   "source": [
    "df = pd.DataFrame(review_embedding, columns=['x', 'y'])\n",
    "df['labels'] = reviews['sentiment']"
   ]
  },
  {
   "cell_type": "code",
   "execution_count": 40,
   "metadata": {},
   "outputs": [
    {
     "data": {
      "text/plain": [
       "<matplotlib.collections.PathCollection at 0x7f11ee803550>"
      ]
     },
     "execution_count": 40,
     "metadata": {},
     "output_type": "execute_result"
    },
    {
     "data": {
      "image/png": "[encoded data removed]",
      "text/plain": [
       "<matplotlib.figure.Figure at 0x7f11fe79ff60>"
      ]
     },
     "metadata": {},
     "output_type": "display_data"
    }
   ],
   "source": [
    "plt.scatter(x=df['x'], y=df['y'], c=df['labels'], cmap='tab10')"
   ]
  },
  {
   "cell_type": "markdown",
   "metadata": {},
   "source": [
    "This doesn't look great. Let's try decreasing the size of the local neighborhood and increasing min_dist"
   ]
  },
  {
   "cell_type": "code",
   "execution_count": 51,
   "metadata": {},
   "outputs": [
    {
     "name": "stdout",
     "output_type": "stream",
     "text": [
      "CPU times: user 4min 24s, sys: 364 ms, total: 4min 24s\n",
      "Wall time: 3min 28s\n"
     ]
    }
   ],
   "source": [
    "%%time\n",
    "tweaked_embedding = umap.UMAP(n_neighbors=10, min_dist=1.0).fit_transform(review_array)"
   ]
  },
  {
   "cell_type": "code",
   "execution_count": 53,
   "metadata": {
    "collapsed": true
   },
   "outputs": [],
   "source": [
    "df2 = pd.DataFrame(tweaked_embedding, columns=['x', 'y'])\n",
    "df2['labels'] = reviews['sentiment']"
   ]
  },
  {
   "cell_type": "code",
   "execution_count": 55,
   "metadata": {},
   "outputs": [
    {
     "data": {
      "text/plain": [
       "<matplotlib.collections.PathCollection at 0x7f65d348b240>"
      ]
     },
     "execution_count": 55,
     "metadata": {},
     "output_type": "execute_result"
    },
    {
     "data": {
      "image/png": "[encoded data removed]",
      "text/plain": [
       "<matplotlib.figure.Figure at 0x7f65d3633fd0>"
      ]
     },
     "metadata": {},
     "output_type": "display_data"
    }
   ],
   "source": [
    "plt.scatter(x=df2['x'], y=df2['y'], \n",
    "            c=df2['labels'], cmap='tab10')"
   ]
  },
  {
   "cell_type": "markdown",
   "metadata": {},
   "source": [
    "It still looks basically the same. If we zoom in (to ignore the outlying points) we see"
   ]
  },
  {
   "cell_type": "code",
   "execution_count": 56,
   "metadata": {},
   "outputs": [
    {
     "data": {
      "text/plain": [
       "<matplotlib.collections.PathCollection at 0x7f65d33c74e0>"
      ]
     },
     "execution_count": 56,
     "metadata": {},
     "output_type": "execute_result"
    },
    {
     "data": {
      "image/png": "[encoded data removed]",
      "text/plain": [
       "<matplotlib.figure.Figure at 0x7f65d34a9550>"
      ]
     },
     "metadata": {},
     "output_type": "display_data"
    }
   ],
   "source": [
    "plt.axis([-20, 20, -20, 20])\n",
    "plt.scatter(x=df2['x'], y=df2['y'], c=df2['labels'], cmap='tab10')"
   ]
  },
  {
   "cell_type": "markdown",
   "metadata": {},
   "source": [
    "### Let's try PCA"
   ]
  },
  {
   "cell_type": "code",
   "execution_count": 3,
   "metadata": {
    "collapsed": true
   },
   "outputs": [],
   "source": [
    "from sklearn.decomposition import PCA"
   ]
  },
  {
   "cell_type": "code",
   "execution_count": 11,
   "metadata": {},
   "outputs": [
    {
     "name": "stdout",
     "output_type": "stream",
     "text": [
      "CPU times: user 264 ms, sys: 8 ms, total: 272 ms\n",
      "Wall time: 157 ms\n"
     ]
    }
   ],
   "source": [
    "%%time\n",
    "review_array = np.array(reviews.iloc[:, 1:])\n",
    "pca_embedding = PCA(n_components=2).fit_transform(review_array)"
   ]
  },
  {
   "cell_type": "code",
   "execution_count": 12,
   "metadata": {},
   "outputs": [
    {
     "data": {
      "text/plain": [
       "<matplotlib.collections.PathCollection at 0x7fb87e28fcc0>"
      ]
     },
     "execution_count": 12,
     "metadata": {},
     "output_type": "execute_result"
    },
    {
     "data": {
      "image/png": "[encoded data removed]",
      "text/plain": [
       "<matplotlib.figure.Figure at 0x7fb8818ba400>"
      ]
     },
     "metadata": {},
     "output_type": "display_data"
    }
   ],
   "source": [
    "pca_df = pd.DataFrame(pca_embedding, columns=['x', 'y'])\n",
    "pca_df['labels'] = reviews['sentiment']\n",
    "\n",
    "plt.scatter(x=pca_df['x'], y=pca_df['y'], c=pca_df['labels'], cmap='tab10')"
   ]
  },
  {
   "cell_type": "markdown",
   "metadata": {},
   "source": [
    "### Let's try it without the spectral initialization"
   ]
  },
  {
   "cell_type": "code",
   "execution_count": 5,
   "metadata": {},
   "outputs": [
    {
     "name": "stdout",
     "output_type": "stream",
     "text": [
      "CPU times: user 3min 1s, sys: 352 ms, total: 3min 1s\n",
      "Wall time: 3min 1s\n"
     ]
    }
   ],
   "source": [
    "%%time\n",
    "review_array = np.array(reviews.iloc[:, 1:])\n",
    "review_embedding = umap.UMAP(init='random').fit_transform(review_array)"
   ]
  },
  {
   "cell_type": "code",
   "execution_count": 7,
   "metadata": {
    "collapsed": true
   },
   "outputs": [],
   "source": [
    "random_embedding = review_embedding"
   ]
  },
  {
   "cell_type": "code",
   "execution_count": 8,
   "metadata": {},
   "outputs": [
    {
     "data": {
      "text/plain": [
       "<matplotlib.collections.PathCollection at 0x7f11fbe8a978>"
      ]
     },
     "execution_count": 8,
     "metadata": {},
     "output_type": "execute_result"
    },
    {
     "data": {
      "image/png": "[encoded data removed]",
      "text/plain": [
       "<matplotlib.figure.Figure at 0x7f11fc27ccf8>"
      ]
     },
     "metadata": {},
     "output_type": "display_data"
    }
   ],
   "source": [
    "random_df = pd.DataFrame(random_embedding, columns=['x', 'y'])\n",
    "random_df['labels'] = reviews['sentiment']\n",
    "\n",
    "plt.scatter(x=random_df['x'], y=random_df['y'], c=random_df['labels'], cmap='tab10')"
   ]
  },
  {
   "cell_type": "code",
   "execution_count": 9,
   "metadata": {},
   "outputs": [
    {
     "data": {
      "text/plain": [
       "'/home/gclenden/anaconda3/lib/python3.6/site-packages/umap-0.0.1-py3.6-linux-x86_64.egg/umap/__init__.py'"
      ]
     },
     "execution_count": 9,
     "metadata": {},
     "output_type": "execute_result"
    }
   ],
   "source": [
    "umap.__file__"
   ]
  },
  {
   "cell_type": "markdown",
   "metadata": {},
   "source": [
    "### Let's try looking into why this didn't work"
   ]
  },
  {
   "cell_type": "code",
   "execution_count": 34,
   "metadata": {
    "collapsed": true
   },
   "outputs": [],
   "source": [
    "import numpy as np\n",
    "from scipy.sparse import find\n",
    "from umap.umap_utils import fuzzy_simplicial_set"
   ]
  },
  {
   "cell_type": "code",
   "execution_count": 15,
   "metadata": {},
   "outputs": [],
   "source": [
    "u = umap.UMAP()"
   ]
  },
  {
   "cell_type": "code",
   "execution_count": 17,
   "metadata": {},
   "outputs": [
    {
     "name": "stdout",
     "output_type": "stream",
     "text": [
      "50\n",
      "3\n"
     ]
    }
   ],
   "source": [
    "print(u.n_neighbors)\n",
    "print(u.oversampling)"
   ]
  },
  {
   "cell_type": "code",
   "execution_count": 19,
   "metadata": {},
   "outputs": [
    {
     "name": "stdout",
     "output_type": "stream",
     "text": [
      "CPU times: user 1min 24s, sys: 116 ms, total: 1min 24s\n",
      "Wall time: 1min 24s\n"
     ]
    }
   ],
   "source": [
    "%%time\n",
    "graph = fuzzy_simplicial_set(review_array, u.n_neighbors, u.oversampling)"
   ]
  },
  {
   "cell_type": "code",
   "execution_count": 32,
   "metadata": {},
   "outputs": [],
   "source": [
    "row_idx, col_idx, non_zero_val = find(graph)"
   ]
  },
  {
   "cell_type": "code",
   "execution_count": 59,
   "metadata": {},
   "outputs": [
    {
     "data": {
      "text/plain": [
       "[-182.76703723076869,\n",
       " -182.76703723076869,\n",
       " -155.61499637503186,\n",
       " -155.61499637503186,\n",
       " -132.17115218684077,\n",
       " -132.17115218684077,\n",
       " -121.72089185206474,\n",
       " -121.72089185206474,\n",
       " -120.62853971293048,\n",
       " -120.62853971293048,\n",
       " -119.42351710640956,\n",
       " -119.42351710640956,\n",
       " -118.06674479569836,\n",
       " -118.06674479569836,\n",
       " -115.82457962375778,\n",
       " -115.82457962375778,\n",
       " -114.40917546049887,\n",
       " -114.40917546049887,\n",
       " -112.74276101187854,\n",
       " -112.74276101187854,\n",
       " -111.45909513242631,\n",
       " -111.45909513242631,\n",
       " -110.80671431346163,\n",
       " -110.80671431346163,\n",
       " -109.84968350614497,\n",
       " -109.84968350614497,\n",
       " -109.63008147114049,\n",
       " -109.63008147114049,\n",
       " -109.5757808450868,\n",
       " -109.5757808450868,\n",
       " -109.4795346279987,\n",
       " -109.4795346279987,\n",
       " -109.11587072471065,\n",
       " -109.11587072471065,\n",
       " -107.25187171228663,\n",
       " -107.25187171228663,\n",
       " -105.54299282710988,\n",
       " -105.54299282710988,\n",
       " -105.53656502373077,\n",
       " -105.53656502373077,\n",
       " -104.81966846271192,\n",
       " -104.81966846271192,\n",
       " -104.51705211744323,\n",
       " -104.51705211744323,\n",
       " -101.96537283487224,\n",
       " -101.96537283487224,\n",
       " -100.70858111455843,\n",
       " -100.70858111455843,\n",
       " -100.05713477582779,\n",
       " -100.05713477582779,\n",
       " -99.757132353921378,\n",
       " -99.757132353921378,\n",
       " -97.982763355932207,\n",
       " -97.982763355932207,\n",
       " -97.419318458277061,\n",
       " -97.419318458277061,\n",
       " -97.333337136650186,\n",
       " -97.333337136650186,\n",
       " -97.26573797488372,\n",
       " -97.26573797488372,\n",
       " -97.177230380595262,\n",
       " -97.177230380595262,\n",
       " -96.433267756684558,\n",
       " -96.433267756684558,\n",
       " -96.146951339715045,\n",
       " -96.146951339715045,\n",
       " -95.529067142226793,\n",
       " -95.529067142226793,\n",
       " -95.097425950104395,\n",
       " -95.097425950104395,\n",
       " -94.703937600622297,\n",
       " -94.703937600622297,\n",
       " -93.295745028651368,\n",
       " -93.295745028651368,\n",
       " -92.924876247171795,\n",
       " -92.924876247171795,\n",
       " -92.605565345286507,\n",
       " -92.605565345286507,\n",
       " -92.351548095174863,\n",
       " -92.351548095174863,\n",
       " -91.899204644782358,\n",
       " -91.899204644782358,\n",
       " -91.811400408568375,\n",
       " -91.811400408568375,\n",
       " -91.778032529528886,\n",
       " -91.778032529528886,\n",
       " -91.724352427449048,\n",
       " -91.724352427449048,\n",
       " -91.61532529044193,\n",
       " -91.61532529044193,\n",
       " -91.417401193614552,\n",
       " -91.417401193614552,\n",
       " -91.285497205366411,\n",
       " -91.285497205366411,\n",
       " -90.2756574258038,\n",
       " -90.2756574258038,\n",
       " -89.75035901784625,\n",
       " -89.75035901784625,\n",
       " -89.391362706551647,\n",
       " -89.391362706551647,\n",
       " -89.157197237344022,\n",
       " -89.157197237344022,\n",
       " -89.12908907336525,\n",
       " -89.12908907336525,\n",
       " -89.067113413949116,\n",
       " -89.067113413949116,\n",
       " -88.666756990699511,\n",
       " -88.666756990699511,\n",
       " -87.327641793279028,\n",
       " -87.327641793279028,\n",
       " -87.223778405905009,\n",
       " -87.223778405905009,\n",
       " -87.184565401472639,\n",
       " -87.184565401472639,\n",
       " -86.210914380856451,\n",
       " -86.210914380856451,\n",
       " -86.124160093269879,\n",
       " -86.124160093269879,\n",
       " -85.724769267033935,\n",
       " -85.724769267033935,\n",
       " -85.041223358151711,\n",
       " -85.041223358151711,\n",
       " -84.960216770436872,\n",
       " -84.960216770436872,\n",
       " -84.3573134169703,\n",
       " -84.3573134169703,\n",
       " -84.032159795221162,\n",
       " -84.032159795221162,\n",
       " -83.859549500548766,\n",
       " -83.859549500548766,\n",
       " -83.69283266646238,\n",
       " -83.69283266646238,\n",
       " -82.740309425304375,\n",
       " -82.740309425304375,\n",
       " -82.691919173365534,\n",
       " -82.691919173365534,\n",
       " -82.291595821969338,\n",
       " -82.291595821969338,\n",
       " -82.148619279971186,\n",
       " -82.148619279971186,\n",
       " -82.044574959508452,\n",
       " -82.044574959508452,\n",
       " -81.822164074568107,\n",
       " -81.822164074568107,\n",
       " -81.539952594401456,\n",
       " -81.539952594401456,\n",
       " -81.039197700556002,\n",
       " -81.039197700556002,\n",
       " -80.804666327443442,\n",
       " -80.804666327443442,\n",
       " -80.236976678385815,\n",
       " -80.236976678385815,\n",
       " -80.025255103392695,\n",
       " -80.025255103392695,\n",
       " -79.763291797159738,\n",
       " -79.763291797159738,\n",
       " -79.572529502695616,\n",
       " -79.572529502695616,\n",
       " -79.409132023025208,\n",
       " -79.409132023025208,\n",
       " -79.048528962641129,\n",
       " -79.048528962641129,\n",
       " -78.923299903731831,\n",
       " -78.923299903731831,\n",
       " -78.778979264279414,\n",
       " -78.778979264279414,\n",
       " -78.591574519130432,\n",
       " -78.591574519130432,\n",
       " -78.091322568946168,\n",
       " -78.091322568946168,\n",
       " -77.937336000491172,\n",
       " -77.937336000491172,\n",
       " -77.897599201475188,\n",
       " -77.897599201475188,\n",
       " -77.542266226634752,\n",
       " -77.542266226634752,\n",
       " -77.139301397760036,\n",
       " -77.139301397760036,\n",
       " -77.100419359604061,\n",
       " -77.100419359604061,\n",
       " -76.83089204583608,\n",
       " -76.83089204583608,\n",
       " -76.621462821159511,\n",
       " -76.621462821159511,\n",
       " -76.292033302536879,\n",
       " -76.292033302536879,\n",
       " -76.271197177822685,\n",
       " -76.271197177822685,\n",
       " -75.788100298235193,\n",
       " -75.788100298235193,\n",
       " -75.648451928284004,\n",
       " -75.648451928284004,\n",
       " -75.460569025531697,\n",
       " -75.460569025531697,\n",
       " -75.085700615834256,\n",
       " -75.085700615834256,\n",
       " -74.870619343994179,\n",
       " -74.870619343994179,\n",
       " -74.82776238434613,\n",
       " -74.82776238434613,\n",
       " -74.732350660650937,\n",
       " -74.732350660650937,\n",
       " -74.560261901936727,\n",
       " -74.560261901936727,\n",
       " -74.547685054438489,\n",
       " -74.547685054438489,\n",
       " -74.501304468463843,\n",
       " -74.501304468463843,\n",
       " -74.302739571551683,\n",
       " -74.302739571551683,\n",
       " -74.274860546688458,\n",
       " -74.274860546688458,\n",
       " -74.26901012155696,\n",
       " -74.26901012155696,\n",
       " -74.250854530888006,\n",
       " -74.250854530888006,\n",
       " -73.963303275923465,\n",
       " -73.963303275923465,\n",
       " -73.82436048970095,\n",
       " -73.82436048970095,\n",
       " -73.782673315529152,\n",
       " -73.782673315529152,\n",
       " -73.724474624636812,\n",
       " -73.724474624636812,\n",
       " -73.365081013971732,\n",
       " -73.365081013971732,\n",
       " -73.355445238987684,\n",
       " -73.355445238987684,\n",
       " -73.20653172454962,\n",
       " -73.20653172454962,\n",
       " -73.180037515897268,\n",
       " -73.180037515897268,\n",
       " -73.043132692377014,\n",
       " -73.043132692377014,\n",
       " -73.01058344895408,\n",
       " -73.01058344895408,\n",
       " -72.967604824302541,\n",
       " -72.967604824302541,\n",
       " -72.959561175021975,\n",
       " -72.959561175021975,\n",
       " -72.784548335158306,\n",
       " -72.784548335158306,\n",
       " -72.711481332431475,\n",
       " -72.711481332431475,\n",
       " -72.503923348264451,\n",
       " -72.503923348264451,\n",
       " -72.484141932247354,\n",
       " -72.484141932247354,\n",
       " -72.39987859342682,\n",
       " -72.39987859342682,\n",
       " -72.155165149562649,\n",
       " -72.155165149562649,\n",
       " -72.134248321213036,\n",
       " -72.134248321213036,\n",
       " -71.569638763771394,\n",
       " -71.569638763771394,\n",
       " -71.468922807074051,\n",
       " -71.468922807074051,\n",
       " -71.070939402932197,\n",
       " -71.070939402932197,\n",
       " -71.060482177678736,\n",
       " -71.060482177678736,\n",
       " -70.931657810581811,\n",
       " -70.931657810581811,\n",
       " -70.763881702508357,\n",
       " -70.763881702508357,\n",
       " -70.646433687112676,\n",
       " -70.646433687112676,\n",
       " -70.641520814355161,\n",
       " -70.641520814355161,\n",
       " -70.472438632153569,\n",
       " -70.472438632153569,\n",
       " -70.441829211326962,\n",
       " -70.441829211326962,\n",
       " -70.310581401077044,\n",
       " -70.310581401077044,\n",
       " -70.271370795258903,\n",
       " -70.271370795258903,\n",
       " -70.203765844655337,\n",
       " -70.203765844655337,\n",
       " -69.787210171840655,\n",
       " -69.787210171840655,\n",
       " -69.748832477227182,\n",
       " -69.748832477227182,\n",
       " -69.731631081286238,\n",
       " -69.731631081286238,\n",
       " -69.594332813754306,\n",
       " -69.594332813754306,\n",
       " -69.557508558225479,\n",
       " -69.557508558225479,\n",
       " -69.498977252895202,\n",
       " -69.498977252895202,\n",
       " -69.441973207464088,\n",
       " -69.441973207464088,\n",
       " -69.09118931666579,\n",
       " -69.09118931666579,\n",
       " -68.851582296847042,\n",
       " -68.851582296847042,\n",
       " -68.774120036102858,\n",
       " -68.774120036102858,\n",
       " -68.533250760036282,\n",
       " -68.533250760036282,\n",
       " -68.484715666953733,\n",
       " -68.484715666953733,\n",
       " -68.342658882544981,\n",
       " -68.342658882544981,\n",
       " -68.335876159024778,\n",
       " -68.335876159024778,\n",
       " -68.321931487337338,\n",
       " -68.321931487337338,\n",
       " -68.153836431296583,\n",
       " -68.153836431296583,\n",
       " -68.086369729230654,\n",
       " -68.086369729230654,\n",
       " -68.080464649144659,\n",
       " -68.080464649144659,\n",
       " -67.974033580169461,\n",
       " -67.974033580169461,\n",
       " -67.911545271341183,\n",
       " -67.911545271341183,\n",
       " -67.881912878035493,\n",
       " -67.881912878035493,\n",
       " -67.838058537625869,\n",
       " -67.838058537625869,\n",
       " -67.822662046222604,\n",
       " -67.822662046222604,\n",
       " -67.800958119714778,\n",
       " -67.800958119714778,\n",
       " -67.796637285081346,\n",
       " -67.796637285081346,\n",
       " -67.761885727941774,\n",
       " -67.761885727941774,\n",
       " -67.528120536162334,\n",
       " -67.528120536162334,\n",
       " -67.42600052567083,\n",
       " -67.42600052567083,\n",
       " -67.328109792800731,\n",
       " -67.328109792800731,\n",
       " -67.082909658518318,\n",
       " -67.082909658518318,\n",
       " -66.629447241178156,\n",
       " -66.629447241178156,\n",
       " -66.466481395486625,\n",
       " -66.466481395486625,\n",
       " -66.453997012504928,\n",
       " -66.453997012504928,\n",
       " -66.303625844518876,\n",
       " -66.303625844518876,\n",
       " -66.189002326243653,\n",
       " -66.189002326243653,\n",
       " -66.169017428343182,\n",
       " -66.169017428343182,\n",
       " -66.158189183268902,\n",
       " -66.158189183268902,\n",
       " -66.131615857504073,\n",
       " -66.131615857504073,\n",
       " -65.988463015969899,\n",
       " -65.988463015969899,\n",
       " -65.787813759666562,\n",
       " -65.787813759666562,\n",
       " -65.781792333800908,\n",
       " -65.781792333800908,\n",
       " -65.745380194910211,\n",
       " -65.745380194910211,\n",
       " -65.699213368689797,\n",
       " -65.699213368689797,\n",
       " -65.694868912138901,\n",
       " -65.694868912138901,\n",
       " -65.65453520041919,\n",
       " -65.65453520041919,\n",
       " -65.620164143468074,\n",
       " -65.620164143468074,\n",
       " -65.609503420850729,\n",
       " -65.609503420850729,\n",
       " -65.608397841574458,\n",
       " -65.608397841574458,\n",
       " -65.599866713188291,\n",
       " -65.599866713188291,\n",
       " -65.435318992875352,\n",
       " -65.435318992875352,\n",
       " -65.307485601320906,\n",
       " -65.307485601320906,\n",
       " -65.302418101664458,\n",
       " -65.302418101664458,\n",
       " -65.141998415150979,\n",
       " -65.141998415150979,\n",
       " -65.133467135980652,\n",
       " -65.133467135980652,\n",
       " -64.850232087987692,\n",
       " -64.850232087987692,\n",
       " -64.741671368661585,\n",
       " -64.741671368661585,\n",
       " -64.609959387131795,\n",
       " -64.609959387131795,\n",
       " -64.182111101074298,\n",
       " -64.182111101074298,\n",
       " -64.165866571304761,\n",
       " -64.165866571304761,\n",
       " -64.028353370392935,\n",
       " -64.028353370392935,\n",
       " -63.970480438285321,\n",
       " -63.970480438285321,\n",
       " -63.895254087343851,\n",
       " -63.895254087343851,\n",
       " -63.83879731383734,\n",
       " -63.83879731383734,\n",
       " -63.817430238438106,\n",
       " -63.817430238438106,\n",
       " -63.592876340282288,\n",
       " -63.592876340282288,\n",
       " -63.566008026629447,\n",
       " -63.566008026629447,\n",
       " -63.493630146297306,\n",
       " -63.493630146297306,\n",
       " -63.477555546309823,\n",
       " -63.477555546309823,\n",
       " -63.428121000218617,\n",
       " -63.428121000218617,\n",
       " -63.416494795058746,\n",
       " -63.416494795058746,\n",
       " -63.364556001379782,\n",
       " -63.364556001379782,\n",
       " -63.337233710082501,\n",
       " -63.337233710082501,\n",
       " -63.138995582051798,\n",
       " -63.138995582051798,\n",
       " -63.048884160619274,\n",
       " -63.048884160619274,\n",
       " -63.039185772758486,\n",
       " -63.039185772758486,\n",
       " -63.004844594130681,\n",
       " -63.004844594130681,\n",
       " -63.002285053974418,\n",
       " -63.002285053974418,\n",
       " -62.942427573998138,\n",
       " -62.942427573998138,\n",
       " -62.929995001632932,\n",
       " -62.929995001632932,\n",
       " -62.902136694543998,\n",
       " -62.902136694543998,\n",
       " -62.88086251060016,\n",
       " -62.88086251060016,\n",
       " -62.738690526654736,\n",
       " -62.738690526654736,\n",
       " -62.703157512425044,\n",
       " -62.703157512425044,\n",
       " -62.579333248350956,\n",
       " -62.579333248350956,\n",
       " -62.33158204163977,\n",
       " -62.33158204163977,\n",
       " -61.81011594414241,\n",
       " -61.81011594414241,\n",
       " -61.745505688954474,\n",
       " -61.745505688954474,\n",
       " -61.725428747815158,\n",
       " -61.725428747815158,\n",
       " -61.717644599735237,\n",
       " -61.717644599735237,\n",
       " -61.5982514447943,\n",
       " -61.5982514447943,\n",
       " -61.527750971312358,\n",
       " -61.527750971312358,\n",
       " -61.484186527557249,\n",
       " -61.484186527557249,\n",
       " -61.475421035584581,\n",
       " -61.475421035584581,\n",
       " -61.459143683681631,\n",
       " -61.459143683681631,\n",
       " -61.451915158323473,\n",
       " -61.451915158323473,\n",
       " -61.445241675691129,\n",
       " -61.445241675691129,\n",
       " -61.441388800878364,\n",
       " -61.441388800878364,\n",
       " -61.349127753394114,\n",
       " -61.349127753394114,\n",
       " -61.34099223691404,\n",
       " -61.34099223691404,\n",
       " -61.304654500706214,\n",
       " -61.304654500706214,\n",
       " -61.183132432550515,\n",
       " -61.183132432550515,\n",
       " -61.168029090365373,\n",
       " -61.168029090365373,\n",
       " -61.159997814426958,\n",
       " -61.159997814426958,\n",
       " -61.138816209238215,\n",
       " -61.138816209238215,\n",
       " -61.1355396491645,\n",
       " -61.1355396491645,\n",
       " -60.909476880730871,\n",
       " -60.909476880730871,\n",
       " -60.904791004455433,\n",
       " -60.904791004455433,\n",
       " -60.629379547383259,\n",
       " -60.629379547383259,\n",
       " -60.518632406120886,\n",
       " -60.518632406120886,\n",
       " -60.503741237963155,\n",
       " -60.503741237963155,\n",
       " -60.481757695208799,\n",
       " -60.481757695208799,\n",
       " -60.413345981320113,\n",
       " -60.413345981320113,\n",
       " -60.408307789480801,\n",
       " -60.408307789480801,\n",
       " -60.316031867832329,\n",
       " -60.316031867832329,\n",
       " -60.244243230918059,\n",
       " -60.244243230918059,\n",
       " -60.226987575301834,\n",
       " -60.226987575301834,\n",
       " -60.183577397275322,\n",
       " -60.183577397275322,\n",
       " -60.116748623524515,\n",
       " -60.116748623524515,\n",
       " -60.090896182970077,\n",
       " -60.090896182970077,\n",
       " -60.030962783185366,\n",
       " -60.030962783185366,\n",
       " -60.018849137986358,\n",
       " -60.018849137986358,\n",
       " -59.944560711421197,\n",
       " -59.944560711421197,\n",
       " -59.876257220155246,\n",
       " -59.876257220155246,\n",
       " -59.844071977046276,\n",
       " -59.844071977046276,\n",
       " -59.779091538634916,\n",
       " -59.779091538634916,\n",
       " -59.729720604445859,\n",
       " -59.729720604445859,\n",
       " -59.63062847033428,\n",
       " -59.63062847033428,\n",
       " -59.589571145686051,\n",
       " -59.589571145686051,\n",
       " -59.519182856475041,\n",
       " -59.519182856475041,\n",
       " -59.484915574701496,\n",
       " -59.484915574701496,\n",
       " -59.442477720076646,\n",
       " -59.442477720076646,\n",
       " -59.361563761904769,\n",
       " -59.361563761904769,\n",
       " -59.360051558041548,\n",
       " -59.360051558041548,\n",
       " -59.353614750073469,\n",
       " -59.353614750073469,\n",
       " -59.287037199308415,\n",
       " -59.287037199308415,\n",
       " -59.256786267516709,\n",
       " -59.256786267516709,\n",
       " -59.152896370861811,\n",
       " -59.152896370861811,\n",
       " -59.151867429440799,\n",
       " -59.151867429440799,\n",
       " -59.138943184028413,\n",
       " -59.138943184028413,\n",
       " -59.066033173371508,\n",
       " -59.066033173371508,\n",
       " -59.000310950981678,\n",
       " -59.000310950981678,\n",
       " -58.994454710147004,\n",
       " -58.994454710147004,\n",
       " -58.676092940276938,\n",
       " -58.676092940276938,\n",
       " -58.645659799440935,\n",
       " -58.645659799440935,\n",
       " -58.587513704915807,\n",
       " -58.587513704915807,\n",
       " -58.575212629673288,\n",
       " -58.575212629673288,\n",
       " -58.535456622332326,\n",
       " -58.535456622332326,\n",
       " -58.475768056166203,\n",
       " -58.475768056166203,\n",
       " -58.46069783830589,\n",
       " -58.46069783830589,\n",
       " -58.432705337102874,\n",
       " -58.432705337102874,\n",
       " -58.428319754512103,\n",
       " -58.428319754512103,\n",
       " -58.411527022130286,\n",
       " -58.411527022130286,\n",
       " -58.376847592883557,\n",
       " -58.376847592883557,\n",
       " -58.356325321768026,\n",
       " -58.356325321768026,\n",
       " -58.349913089814052,\n",
       " -58.349913089814052,\n",
       " -58.322684712108945,\n",
       " -58.322684712108945,\n",
       " -58.251688661369585,\n",
       " -58.251688661369585,\n",
       " -58.247704567290661,\n",
       " -58.247704567290661,\n",
       " -58.243082929973369,\n",
       " -58.243082929973369,\n",
       " -58.021286777535458,\n",
       " -58.021286777535458,\n",
       " -57.970477708416048,\n",
       " -57.970477708416048,\n",
       " -57.937057920435919,\n",
       " -57.937057920435919,\n",
       " -57.924577206128305,\n",
       " -57.924577206128305,\n",
       " -57.906075487215318,\n",
       " -57.906075487215318,\n",
       " -57.875198191789757,\n",
       " -57.875198191789757,\n",
       " -57.857050208313133,\n",
       " -57.857050208313133,\n",
       " -57.79861290547732,\n",
       " -57.79861290547732,\n",
       " -57.776540291455284,\n",
       " -57.776540291455284,\n",
       " -57.771865593047025,\n",
       " -57.771865593047025,\n",
       " -57.749386434038627,\n",
       " -57.749386434038627,\n",
       " -57.730389876511843,\n",
       " -57.730389876511843,\n",
       " -57.727073280840408,\n",
       " -57.727073280840408,\n",
       " -57.71844028905285,\n",
       " -57.71844028905285,\n",
       " -57.698381625779376,\n",
       " -57.698381625779376,\n",
       " -57.686591271858696,\n",
       " -57.686591271858696,\n",
       " -57.657398847372789,\n",
       " -57.657398847372789,\n",
       " -57.625247425503645,\n",
       " -57.625247425503645,\n",
       " -57.618199462683535,\n",
       " -57.618199462683535,\n",
       " -57.610307535243578,\n",
       " -57.610307535243578,\n",
       " -57.589696306599578,\n",
       " -57.589696306599578,\n",
       " -57.558654530543613,\n",
       " -57.558654530543613,\n",
       " -57.492010081408019,\n",
       " -57.492010081408019,\n",
       " -57.41430136202537,\n",
       " -57.41430136202537,\n",
       " -57.344347499585879,\n",
       " -57.344347499585879,\n",
       " -57.304855830644335,\n",
       " -57.304855830644335,\n",
       " -57.273667232582405,\n",
       " -57.273667232582405,\n",
       " -57.270280178751442,\n",
       " -57.270280178751442,\n",
       " -57.254138268886834,\n",
       " -57.254138268886834,\n",
       " -57.242403565146091,\n",
       " -57.242403565146091,\n",
       " -57.237998386795823,\n",
       " -57.237998386795823,\n",
       " -57.225983109711365,\n",
       " -57.225983109711365,\n",
       " -57.175477832058178,\n",
       " -57.175477832058178,\n",
       " -57.172043918898112,\n",
       " -57.172043918898112,\n",
       " -57.131115086408897,\n",
       " -57.131115086408897,\n",
       " -57.113768227795298,\n",
       " -57.113768227795298,\n",
       " -56.933037143977835,\n",
       " -56.933037143977835,\n",
       " -56.917845383030333,\n",
       " -56.917845383030333,\n",
       " -56.844642575540647,\n",
       " -56.844642575540647,\n",
       " -56.833683960045406,\n",
       " -56.833683960045406,\n",
       " -56.833606305718192,\n",
       " -56.833606305718192,\n",
       " -56.80165845984741,\n",
       " -56.80165845984741,\n",
       " -56.789932555297028,\n",
       " -56.789932555297028,\n",
       " -56.734421375037435,\n",
       " -56.734421375037435,\n",
       " -56.72638537174651,\n",
       " -56.72638537174651,\n",
       " -56.711518363095976,\n",
       " -56.711518363095976,\n",
       " -56.678416646240194,\n",
       " -56.678416646240194,\n",
       " -56.64308595641198,\n",
       " -56.64308595641198,\n",
       " -56.577462726885827,\n",
       " -56.577462726885827,\n",
       " -56.572538618315491,\n",
       " -56.572538618315491,\n",
       " -56.523857601160259,\n",
       " -56.523857601160259,\n",
       " -56.479141706332953,\n",
       " -56.479141706332953,\n",
       " -56.442605123306116,\n",
       " -56.442605123306116,\n",
       " -56.434450606123683,\n",
       " -56.434450606123683,\n",
       " -56.41462714660625,\n",
       " -56.41462714660625,\n",
       " -56.393595389342835,\n",
       " -56.393595389342835,\n",
       " -56.374071096573005,\n",
       " -56.374071096573005,\n",
       " -56.302568756912592,\n",
       " -56.302568756912592,\n",
       " -56.297988746184238,\n",
       " -56.297988746184238,\n",
       " -56.240040535160624,\n",
       " -56.240040535160624,\n",
       " -56.233702794459525,\n",
       " -56.233702794459525,\n",
       " -56.128967561660161,\n",
       " -56.128967561660161,\n",
       " -56.044502153901455,\n",
       " -56.044502153901455,\n",
       " -56.01879619262715,\n",
       " -56.01879619262715,\n",
       " -56.010199640737973,\n",
       " -56.010199640737973,\n",
       " -55.95929397803355,\n",
       " -55.95929397803355,\n",
       " -55.839890352526439,\n",
       " -55.839890352526439,\n",
       " -55.822120379603895,\n",
       " -55.822120379603895,\n",
       " -55.811124241813587,\n",
       " -55.811124241813587,\n",
       " -55.690063543413046,\n",
       " -55.690063543413046,\n",
       " -55.601430645418233,\n",
       " -55.601430645418233,\n",
       " -55.496780690742625,\n",
       " -55.496780690742625,\n",
       " -55.41110896393208,\n",
       " -55.41110896393208,\n",
       " -55.312125935405376,\n",
       " -55.312125935405376,\n",
       " -55.303707382216579,\n",
       " -55.303707382216579,\n",
       " -55.292587064317722,\n",
       " -55.292587064317722,\n",
       " -55.28786979580331,\n",
       " -55.28786979580331,\n",
       " -55.2196220304957,\n",
       " -55.2196220304957,\n",
       " -55.192360879819425,\n",
       " -55.192360879819425,\n",
       " -55.152272437967021,\n",
       " -55.152272437967021,\n",
       " -55.137054683565964,\n",
       " -55.137054683565964,\n",
       " -55.112830427617908,\n",
       " -55.112830427617908,\n",
       " -55.095264491841036,\n",
       " -55.095264491841036,\n",
       " -55.020206029509296,\n",
       " -55.020206029509296,\n",
       " -54.987848719217745,\n",
       " -54.987848719217745,\n",
       " -54.904000734396917,\n",
       " -54.904000734396917,\n",
       " -54.87744513873168,\n",
       " -54.87744513873168,\n",
       " -54.875007419648277,\n",
       " -54.875007419648277,\n",
       " -54.865781759211579,\n",
       " -54.865781759211579,\n",
       " -54.785409479787589,\n",
       " -54.785409479787589,\n",
       " -54.759585215631553,\n",
       " -54.759585215631553,\n",
       " -54.739991076604355,\n",
       " -54.739991076604355,\n",
       " -54.735462026863722,\n",
       " -54.735462026863722,\n",
       " -54.704616025506944,\n",
       " -54.704616025506944,\n",
       " -54.686212570659883,\n",
       " -54.686212570659883,\n",
       " -54.684019693634312,\n",
       " -54.684019693634312,\n",
       " -54.671112832156247,\n",
       " -54.671112832156247,\n",
       " -54.558666910409748,\n",
       " -54.558666910409748,\n",
       " -54.545237069859432,\n",
       " -54.545237069859432,\n",
       " -54.487922834564714,\n",
       " -54.487922834564714,\n",
       " -54.473629134337216,\n",
       " -54.473629134337216,\n",
       " -54.470083714742529,\n",
       " -54.470083714742529,\n",
       " -54.456093818083318,\n",
       " -54.456093818083318,\n",
       " -54.445244323788614,\n",
       " -54.445244323788614,\n",
       " -54.418379375960782,\n",
       " -54.418379375960782,\n",
       " -54.412614072941359,\n",
       " -54.412614072941359,\n",
       " -54.394835246554074,\n",
       " -54.394835246554074,\n",
       " -54.282348269643222,\n",
       " -54.282348269643222,\n",
       " -54.149217201159118,\n",
       " -54.149217201159118,\n",
       " -54.1437601755241,\n",
       " -54.1437601755241,\n",
       " -54.12674016373694,\n",
       " -54.12674016373694,\n",
       " -54.071688884190607,\n",
       " -54.071688884190607,\n",
       " -54.061468683429879,\n",
       " -54.061468683429879,\n",
       " -54.023563138251617,\n",
       " -54.023563138251617,\n",
       " -53.938479646695335,\n",
       " -53.938479646695335,\n",
       " -53.902416030212351,\n",
       " -53.902416030212351,\n",
       " -53.864690304185309,\n",
       " -53.864690304185309,\n",
       " -53.772517793556666,\n",
       " -53.772517793556666,\n",
       " -53.707608314369445,\n",
       " -53.707608314369445,\n",
       " -53.651916282193284,\n",
       " -53.651916282193284,\n",
       " -53.638890737004211,\n",
       " -53.638890737004211,\n",
       " -53.61888260963682,\n",
       " -53.61888260963682,\n",
       " -53.592000261843012,\n",
       " -53.592000261843012,\n",
       " -53.586118196232235,\n",
       " -53.586118196232235,\n",
       " -53.572337462651021,\n",
       " -53.572337462651021,\n",
       " -53.566811614512453,\n",
       " -53.566811614512453,\n",
       " -53.533684013790548,\n",
       " -53.533684013790548,\n",
       " -53.521463151591234,\n",
       " -53.521463151591234,\n",
       " -53.513610298673441,\n",
       " -53.513610298673441,\n",
       " -53.497042005536287,\n",
       " -53.497042005536287,\n",
       " -53.478894975066041,\n",
       " -53.478894975066041,\n",
       " -53.398558342647142,\n",
       " -53.398558342647142,\n",
       " -53.360835656986147,\n",
       " -53.360835656986147,\n",
       " -53.335366185519085,\n",
       " -53.335366185519085,\n",
       " -53.325732267880078,\n",
       " -53.325732267880078,\n",
       " -53.318435373075815,\n",
       " -53.318435373075815,\n",
       " -53.269693801153466,\n",
       " -53.269693801153466,\n",
       " -53.249596602737647,\n",
       " -53.249596602737647,\n",
       " -53.240346155494102,\n",
       " -53.240346155494102,\n",
       " -53.234637954977138,\n",
       " -53.234637954977138,\n",
       " -53.229933693290796,\n",
       " -53.229933693290796,\n",
       " -53.210669382777752,\n",
       " -53.210669382777752,\n",
       " -53.118080917391133,\n",
       " -53.118080917391133,\n",
       " -53.077508300810493,\n",
       " -53.077508300810493,\n",
       " -53.022396396577925,\n",
       " -53.022396396577925,\n",
       " -53.022074191019968,\n",
       " -53.022074191019968,\n",
       " -53.014297865692484,\n",
       " -53.014297865692484,\n",
       " -52.96245308956059,\n",
       " -52.96245308956059,\n",
       " -52.932594136970216,\n",
       " -52.932594136970216,\n",
       " -52.912996130672013,\n",
       " -52.912996130672013,\n",
       " -52.897425511046009,\n",
       " -52.897425511046009,\n",
       " -52.894958250360929,\n",
       " -52.894958250360929,\n",
       " -52.889652654346932,\n",
       " -52.889652654346932,\n",
       " -52.875213969279592,\n",
       " -52.875213969279592,\n",
       " -52.858400403077098,\n",
       " -52.858400403077098,\n",
       " -52.844660018386904,\n",
       " -52.844660018386904,\n",
       " -52.790193129673334,\n",
       " -52.790193129673334,\n",
       " -52.788528684899781,\n",
       " -52.788528684899781,\n",
       " -52.737921128415401,\n",
       " -52.737921128415401,\n",
       " -52.701338695508561,\n",
       " -52.701338695508561,\n",
       " -52.620535365132291,\n",
       " -52.620535365132291,\n",
       " -52.611765569745678,\n",
       " -52.611765569745678,\n",
       " -52.609175840547906,\n",
       " -52.609175840547906,\n",
       " -52.552629737512255,\n",
       " -52.552629737512255,\n",
       " -52.525710465389444,\n",
       " -52.525710465389444,\n",
       " -52.515614738975529,\n",
       " -52.515614738975529,\n",
       " -52.499572570634953,\n",
       " -52.499572570634953,\n",
       " -52.423970843724888,\n",
       " -52.423970843724888,\n",
       " -52.408676417948293,\n",
       " -52.408676417948293,\n",
       " -52.386970199153509,\n",
       " -52.386970199153509,\n",
       " -52.386589052610908,\n",
       " -52.386589052610908,\n",
       " -52.370067701711768,\n",
       " -52.370067701711768,\n",
       " -52.358430466118598,\n",
       " -52.358430466118598,\n",
       " -52.312923157289916,\n",
       " -52.312923157289916,\n",
       " -52.305004136424692,\n",
       " -52.305004136424692,\n",
       " -52.28437717111386,\n",
       " -52.28437717111386,\n",
       " -52.12815772365721,\n",
       " -52.12815772365721,\n",
       " -52.056642200463443,\n",
       " -52.056642200463443,\n",
       " -52.029595366293698,\n",
       " -52.029595366293698,\n",
       " -51.973046803045804,\n",
       " -51.973046803045804,\n",
       " -51.94965602330209,\n",
       " -51.94965602330209,\n",
       " -51.944050934287844,\n",
       " -51.944050934287844,\n",
       " -51.902169990315656,\n",
       " -51.902169990315656,\n",
       " -51.856023978077964,\n",
       " -51.856023978077964,\n",
       " -51.852192334035564,\n",
       " -51.852192334035564,\n",
       " -51.848366639091829,\n",
       " -51.848366639091829,\n",
       " -51.820858202327265,\n",
       " -51.820858202327265,\n",
       " -51.807472690007913,\n",
       " -51.807472690007913,\n",
       " -51.784458638530552,\n",
       " -51.784458638530552,\n",
       " -51.703811301429859,\n",
       " -51.703811301429859,\n",
       " -51.691313204097909,\n",
       " -51.691313204097909,\n",
       " -51.620911304722092,\n",
       " -51.620911304722092,\n",
       " -51.594704821819043,\n",
       " -51.594704821819043,\n",
       " -51.590329565779115,\n",
       " -51.590329565779115,\n",
       " -51.582950466039968,\n",
       " -51.582950466039968,\n",
       " -51.560547965932201,\n",
       " -51.560547965932201,\n",
       " -51.553600331861723,\n",
       " -51.553600331861723,\n",
       " -51.529989488477391,\n",
       " -51.529989488477391,\n",
       " -51.51844229221043,\n",
       " -51.51844229221043,\n",
       " -51.514810533767069,\n",
       " -51.514810533767069,\n",
       " -51.417362795055702,\n",
       " -51.417362795055702,\n",
       " ...]"
      ]
     },
     "execution_count": 59,
     "metadata": {},
     "output_type": "execute_result"
    }
   ],
   "source": [
    "logs = np.log(non_zero_val)\n",
    "sorted(logs)"
   ]
  },
  {
   "cell_type": "code",
   "execution_count": 106,
   "metadata": {
    "collapsed": true
   },
   "outputs": [],
   "source": [
    "logs_df = pd.DataFrame(sorted(logs))"
   ]
  },
  {
   "cell_type": "code",
   "execution_count": 108,
   "metadata": {},
   "outputs": [
    {
     "data": {
      "text/plain": [
       "<matplotlib.axes._subplots.AxesSubplot at 0x7f1146d39320>"
      ]
     },
     "execution_count": 108,
     "metadata": {},
     "output_type": "execute_result"
    },
    {
     "data": {
      "image/png": "[encoded data removed]",
      "text/plain": [
       "<matplotlib.figure.Figure at 0x7f1114512358>"
      ]
     },
     "metadata": {},
     "output_type": "display_data"
    }
   ],
   "source": [
    "logs_df.plot()"
   ]
  },
  {
   "cell_type": "code",
   "execution_count": 41,
   "metadata": {},
   "outputs": [
    {
     "data": {
      "text/plain": [
       "<matplotlib.collections.PathCollection at 0x7f11ee77f400>"
      ]
     },
     "execution_count": 41,
     "metadata": {},
     "output_type": "execute_result"
    },
    {
     "data": {
      "image/png": "[encoded data removed]",
      "text/plain": [
       "<matplotlib.figure.Figure at 0x7f11ee7bd240>"
      ]
     },
     "metadata": {},
     "output_type": "display_data"
    }
   ],
   "source": [
    "# Taking a look at the embedding again\n",
    "df = pd.DataFrame(review_embedding, columns=['x', 'y'])\n",
    "df['labels'] = reviews['sentiment']\n",
    "plt.scatter(x=df['x'], y=df['y'], c=df['labels'], cmap='tab10')"
   ]
  },
  {
   "cell_type": "markdown",
   "metadata": {},
   "source": [
    "Looking for the outlying ones"
   ]
  },
  {
   "cell_type": "code",
   "execution_count": 44,
   "metadata": {},
   "outputs": [
    {
     "data": {
      "text/html": [
       "<div>\n",
       "<style>\n",
       "    .dataframe thead tr:only-child th {\n",
       "        text-align: right;\n",
       "    }\n",
       "\n",
       "    .dataframe thead th {\n",
       "        text-align: left;\n",
       "    }\n",
       "\n",
       "    .dataframe tbody tr th {\n",
       "        vertical-align: top;\n",
       "    }\n",
       "</style>\n",
       "<table border=\"1\" class=\"dataframe\">\n",
       "  <thead>\n",
       "    <tr style=\"text-align: right;\">\n",
       "      <th></th>\n",
       "      <th>x</th>\n",
       "      <th>y</th>\n",
       "      <th>labels</th>\n",
       "    </tr>\n",
       "  </thead>\n",
       "  <tbody>\n",
       "    <tr>\n",
       "      <th>1751</th>\n",
       "      <td>98.998522</td>\n",
       "      <td>0.007130</td>\n",
       "      <td>1</td>\n",
       "    </tr>\n",
       "    <tr>\n",
       "      <th>2483</th>\n",
       "      <td>0.011736</td>\n",
       "      <td>98.216747</td>\n",
       "      <td>1</td>\n",
       "    </tr>\n",
       "  </tbody>\n",
       "</table>\n",
       "</div>"
      ],
      "text/plain": [
       "              x          y  labels\n",
       "1751  98.998522   0.007130       1\n",
       "2483   0.011736  98.216747       1"
      ]
     },
     "execution_count": 44,
     "metadata": {},
     "output_type": "execute_result"
    }
   ],
   "source": [
    "df[(df.x > 80) | (df.y > 80)] "
   ]
  },
  {
   "cell_type": "code",
   "execution_count": 47,
   "metadata": {},
   "outputs": [],
   "source": [
    "outlier_row_1 = graph[1751, :]\n",
    "outlier_col_1 = graph[:, 1751]\n",
    "\n",
    "outlier_row_2 = graph[2483, :]\n",
    "outlier_col_2 = graph[:, 2483]"
   ]
  },
  {
   "cell_type": "code",
   "execution_count": 77,
   "metadata": {
    "collapsed": true
   },
   "outputs": [],
   "source": [
    "def get_logs_of_non_zero(v):\n",
    "    i, j, k = find(v)\n",
    "    return np.log(k)"
   ]
  },
  {
   "cell_type": "code",
   "execution_count": 80,
   "metadata": {},
   "outputs": [],
   "source": [
    "row_1_logs = get_logs_of_non_zero(outlier_row_1)\n",
    "col_1_logs = get_logs_of_non_zero(outlier_col_1)\n",
    "\n",
    "row_2_logs = get_logs_of_non_zero(outlier_row_2)\n",
    "col_2_logs = get_logs_of_non_zero(outlier_col_2)"
   ]
  },
  {
   "cell_type": "markdown",
   "metadata": {},
   "source": [
    "### Let's look at the outlying row distributions"
   ]
  },
  {
   "cell_type": "code",
   "execution_count": 103,
   "metadata": {},
   "outputs": [
    {
     "data": {
      "text/plain": [
       "[-121.72089185206474,\n",
       " -120.62853971293048,\n",
       " -118.06674479569836,\n",
       " -115.82457962375778,\n",
       " -114.40917546049887,\n",
       " -112.74276101187854,\n",
       " -110.80671431346163,\n",
       " -109.63008147114049,\n",
       " -109.4795346279987,\n",
       " -105.53656502373077]"
      ]
     },
     "execution_count": 103,
     "metadata": {},
     "output_type": "execute_result"
    }
   ],
   "source": [
    "sorted(row_1_logs)[:10]"
   ]
  },
  {
   "cell_type": "code",
   "execution_count": 102,
   "metadata": {},
   "outputs": [
    {
     "data": {
      "text/plain": [
       "[-182.76703723076869,\n",
       " -155.61499637503186,\n",
       " -111.45909513242631,\n",
       " -109.84968350614497,\n",
       " -109.5757808450868,\n",
       " -109.11587072471065,\n",
       " -104.51705211744323,\n",
       " -99.757132353921378,\n",
       " -96.433267756684558,\n",
       " -91.417401193614552]"
      ]
     },
     "execution_count": 102,
     "metadata": {},
     "output_type": "execute_result"
    }
   ],
   "source": [
    "sorted(row_2_logs)[:10]"
   ]
  },
  {
   "cell_type": "markdown",
   "metadata": {},
   "source": [
    "Picking random rows"
   ]
  },
  {
   "cell_type": "code",
   "execution_count": 105,
   "metadata": {},
   "outputs": [
    {
     "name": "stdout",
     "output_type": "stream",
     "text": [
      "Top 10 values of row 13294\n",
      "[-17.647719931089348, -16.719463363896093, -16.399787350007774, -16.394554000585664, -16.061055366323178, -15.983542014369188, -15.589802920356556, -15.393751995816006, -14.819123661464554, -14.794492960408853]\n",
      "Top 10 values of row 23701\n",
      "[-22.106675481114149, -21.742645096840938, -17.482367490025009, -16.152028930589609, -15.806665220384867, -15.76284545822922, -14.873900722291518, -14.361575454195519, -13.732103081932046, -13.499198209696276]\n",
      "Top 10 values of row 5332\n",
      "[-20.705514882766529, -14.999716820855555, -14.530156560886741, -14.379879745197625, -14.309015863457779, -12.249114475336517, -11.757046953190208, -11.627936364645517, -11.171694667042717, -10.74493496434053]\n",
      "Top 10 values of row 7676\n",
      "[-16.797223733069799, -16.646816333393961, -15.684379186385122, -15.590805657698843, -14.759392629305275, -13.076956007953662, -12.989904224158789, -12.703244285086072, -12.099902290658584, -12.07369052066027]\n",
      "Top 10 values of row 18152\n",
      "[-26.193783734737433, -25.424027989644497, -24.819670305174121, -22.717433473476753, -21.278694657452984, -19.368103373854701, -19.30461318686379, -18.766114483224516, -18.702503117645893, -18.600732206758821]\n",
      "Top 10 values of row 14543\n",
      "[-74.501304468463843, -66.158189183268902, -63.592876340282288, -54.759585215631553, -52.620535365132291, -50.48873758441853, -45.143647093858213, -43.739173950626707, -42.442731650367712, -41.500479069972506]\n",
      "Top 10 values of row 16654\n",
      "[-15.635096589433596, -15.475807147690626, -13.498683051242342, -13.358579875530419, -13.183936502944992, -13.080866476422175, -13.052011349784456, -12.273627660047641, -12.113664399360511, -12.047982556270497]\n",
      "Top 10 values of row 19615\n",
      "[-22.323460813882168, -21.057143847697553, -18.611793953922767, -17.915833469246348, -17.773764333843506, -17.296841583905032, -15.54798702969107, -15.055348492635334, -14.704565367561596, -14.701259490881494]\n",
      "Top 10 values of row 21817\n",
      "[-14.230788686918654, -13.500702674799186, -12.445416434539519, -11.861731071692486, -11.601821937440524, -11.343292859232109, -11.021707099589365, -10.627239246491868, -10.481665716548541, -10.481211209726547]\n",
      "Top 10 values of row 6043\n",
      "[-19.050080201429918, -19.03192827492143, -15.253643762746886, -14.553359412623395, -13.620873530395212, -12.991802606816639, -12.831354818941378, -12.198479173062744, -12.170451990917226, -12.05028620539135]\n"
     ]
    }
   ],
   "source": [
    "rand_ints = np.random.randint(graph.shape[0], size=10)\n",
    "for r in rand_ints:\n",
    "    row_logs = get_logs_of_non_zero(graph[r, :])\n",
    "    col_logs = get_logs_of_non_zero(graph[:, r])\n",
    "    \n",
    "    print('Top 10 values of row {}'.format(r))\n",
    "    print(sorted(row_logs)[:10])"
   ]
  },
  {
   "cell_type": "markdown",
   "metadata": {},
   "source": [
    "So it appears the logs of the outlying rows are much bigger than normal. Not sure what this means"
   ]
  },
  {
   "cell_type": "code",
   "execution_count": null,
   "metadata": {
    "collapsed": true
   },
   "outputs": [],
   "source": []
  },
  {
   "cell_type": "code",
   "execution_count": null,
   "metadata": {
    "collapsed": true
   },
   "outputs": [],
   "source": []
  },
  {
   "cell_type": "code",
   "execution_count": null,
   "metadata": {
    "collapsed": true
   },
   "outputs": [],
   "source": []
  },
  {
   "cell_type": "code",
   "execution_count": null,
   "metadata": {
    "collapsed": true
   },
   "outputs": [],
   "source": []
  },
  {
   "cell_type": "code",
   "execution_count": null,
   "metadata": {
    "collapsed": true
   },
   "outputs": [],
   "source": []
  },
  {
   "cell_type": "code",
   "execution_count": null,
   "metadata": {
    "collapsed": true
   },
   "outputs": [],
   "source": []
  }
 ],
 "metadata": {
  "kernelspec": {
   "display_name": "Python 3",
   "language": "python",
   "name": "python3"
  },
  "language_info": {
   "codemirror_mode": {
    "name": "ipython",
    "version": 3
   },
   "file_extension": ".py",
   "mimetype": "text/x-python",
   "name": "python",
   "nbconvert_exporter": "python",
   "pygments_lexer": "ipython3",
   "version": "3.6.1"
  }
 },
 "nbformat": 4,
 "nbformat_minor": 2
}
